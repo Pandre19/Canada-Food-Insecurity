{
  "nbformat": 4,
  "nbformat_minor": 0,
  "metadata": {
    "colab": {
      "provenance": [],
      "authorship_tag": "ABX9TyP/u1bWm8A9I5eGds4Cexyu",
      "include_colab_link": true
    },
    "kernelspec": {
      "name": "python3",
      "display_name": "Python 3"
    },
    "language_info": {
      "name": "python"
    }
  },
  "cells": [
    {
      "cell_type": "markdown",
      "metadata": {
        "id": "view-in-github",
        "colab_type": "text"
      },
      "source": [
        "<a href=\"https://colab.research.google.com/github/Pandre19/Canada-Food-Insecurity/blob/main/canada_food_security_report.ipynb\" target=\"_parent\"><img src=\"https://colab.research.google.com/assets/colab-badge.svg\" alt=\"Open In Colab\"/></a>"
      ]
    },
    {
      "cell_type": "markdown",
      "source": [
        "# Canada Food Security Project"
      ],
      "metadata": {
        "id": "x8c1MNSxqi1M"
      }
    },
    {
      "cell_type": "markdown",
      "source": [
        "## Summary"
      ],
      "metadata": {
        "id": "cTHxLmT9rBkV"
      }
    },
    {
      "cell_type": "markdown",
      "source": [
        "## Data Collection"
      ],
      "metadata": {
        "id": "1PVmpEp_rBcI"
      }
    },
    {
      "cell_type": "markdown",
      "source": [
        "## Data Formatting & Reporting"
      ],
      "metadata": {
        "id": "We6SfTz_rBOp"
      }
    },
    {
      "cell_type": "markdown",
      "source": [
        "## Data Cleaning"
      ],
      "metadata": {
        "id": "TVaGrTH0rA_d"
      }
    },
    {
      "cell_type": "markdown",
      "source": [
        "## Data Analysis"
      ],
      "metadata": {
        "id": "X6GK4_XRqqHo"
      }
    },
    {
      "cell_type": "code",
      "execution_count": null,
      "metadata": {
        "id": "tVrZBYG5qbEh"
      },
      "outputs": [],
      "source": [
        "address = 'drive/MyDrive/Data_Science_Projects/GLOCAL_industry_employment/'"
      ]
    },
    {
      "cell_type": "code",
      "source": [],
      "metadata": {
        "id": "qWCh0kEwqdoW"
      },
      "execution_count": null,
      "outputs": []
    },
    {
      "cell_type": "markdown",
      "source": [
        "## Conclusions"
      ],
      "metadata": {
        "id": "qOTJ8ylrr6rE"
      }
    }
  ]
}